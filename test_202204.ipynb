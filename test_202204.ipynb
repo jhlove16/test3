{
 "cells": [
  {
   "cell_type": "code",
   "execution_count": 1,
   "metadata": {},
   "outputs": [
    {
     "name": "stdout",
     "output_type": "stream",
     "text": [
      "Hello, world!\n"
     ]
    }
   ],
   "source": [
    "print('Hello, world!')"
   ]
  },
  {
   "cell_type": "code",
   "execution_count": 2,
   "metadata": {},
   "outputs": [
    {
     "name": "stdout",
     "output_type": "stream",
     "text": [
      "1234\n"
     ]
    }
   ],
   "source": [
    "print(1234)"
   ]
  },
  {
   "cell_type": "code",
   "execution_count": 3,
   "metadata": {},
   "outputs": [
    {
     "name": "stdout",
     "output_type": "stream",
     "text": [
      "1234\n"
     ]
    }
   ],
   "source": [
    "print('1234')"
   ]
  },
  {
   "cell_type": "code",
   "execution_count": 4,
   "metadata": {},
   "outputs": [
    {
     "ename": "NameError",
     "evalue": "name 'a' is not defined",
     "output_type": "error",
     "traceback": [
      "\u001b[1;31m---------------------------------------------------------------------------\u001b[0m",
      "\u001b[1;31mNameError\u001b[0m                                 Traceback (most recent call last)",
      "\u001b[1;32m<ipython-input-4-cb6237c4e156>\u001b[0m in \u001b[0;36m<module>\u001b[1;34m\u001b[0m\n\u001b[1;32m----> 1\u001b[1;33m \u001b[1;32mif\u001b[0m \u001b[0ma\u001b[0m\u001b[1;33m==\u001b[0m\u001b[1;36m10\u001b[0m\u001b[1;33m:\u001b[0m\u001b[1;33m\u001b[0m\u001b[1;33m\u001b[0m\u001b[0m\n\u001b[0m\u001b[0;32m      2\u001b[0m     \u001b[0mprint\u001b[0m\u001b[1;33m(\u001b[0m\u001b[1;34m'10입니다.'\u001b[0m\u001b[1;33m)\u001b[0m\u001b[1;33m\u001b[0m\u001b[1;33m\u001b[0m\u001b[0m\n",
      "\u001b[1;31mNameError\u001b[0m: name 'a' is not defined"
     ]
    }
   ],
   "source": [
    "if a == 10:\n",
    "    print('10입니다.')"
   ]
  },
  {
   "cell_type": "code",
   "execution_count": 5,
   "metadata": {},
   "outputs": [
    {
     "ename": "NameError",
     "evalue": "name 'a' is not defined",
     "output_type": "error",
     "traceback": [
      "\u001b[1;31m---------------------------------------------------------------------------\u001b[0m",
      "\u001b[1;31mNameError\u001b[0m                                 Traceback (most recent call last)",
      "\u001b[1;32m<ipython-input-5-52999e9bd10c>\u001b[0m in \u001b[0;36m<module>\u001b[1;34m\u001b[0m\n\u001b[1;32m----> 1\u001b[1;33m \u001b[1;32mif\u001b[0m \u001b[0ma\u001b[0m \u001b[1;33m==\u001b[0m \u001b[1;36m10\u001b[0m\u001b[1;33m:\u001b[0m\u001b[1;33m\u001b[0m\u001b[1;33m\u001b[0m\u001b[0m\n\u001b[0m\u001b[0;32m      2\u001b[0m      \u001b[0mprint\u001b[0m\u001b[1;33m(\u001b[0m\u001b[1;34m'10입니다.'\u001b[0m\u001b[1;33m)\u001b[0m\u001b[1;33m\u001b[0m\u001b[1;33m\u001b[0m\u001b[0m\n",
      "\u001b[1;31mNameError\u001b[0m: name 'a' is not defined"
     ]
    }
   ],
   "source": [
    "if a == 10:\n",
    "     print('10입니다.')"
   ]
  },
  {
   "cell_type": "code",
   "execution_count": 6,
   "metadata": {},
   "outputs": [
    {
     "name": "stdout",
     "output_type": "stream",
     "text": [
      "10입니다.\n"
     ]
    }
   ],
   "source": [
    "a=10\n",
    "if a == 10:\n",
    "     print('10입니다.')"
   ]
  },
  {
   "cell_type": "code",
   "execution_count": 7,
   "metadata": {},
   "outputs": [
    {
     "name": "stdout",
     "output_type": "stream",
     "text": [
      "10\n",
      "입니다\n"
     ]
    }
   ],
   "source": [
    "a=10\n",
    "\n",
    "if a==10:\n",
    "    print('10')\n",
    "    print('입니다')"
   ]
  },
  {
   "cell_type": "code",
   "execution_count": 8,
   "metadata": {},
   "outputs": [
    {
     "ename": "IndentationError",
     "evalue": "unexpected indent (<ipython-input-8-e22dcd6d0a7e>, line 5)",
     "output_type": "error",
     "traceback": [
      "\u001b[1;36m  File \u001b[1;32m\"<ipython-input-8-e22dcd6d0a7e>\"\u001b[1;36m, line \u001b[1;32m5\u001b[0m\n\u001b[1;33m    print('입니다')\u001b[0m\n\u001b[1;37m    ^\u001b[0m\n\u001b[1;31mIndentationError\u001b[0m\u001b[1;31m:\u001b[0m unexpected indent\n"
     ]
    }
   ],
   "source": [
    "a=10\n",
    "\n",
    "if a==10:\n",
    "    print('10')\n",
    "     print('입니다')"
   ]
  },
  {
   "cell_type": "code",
   "execution_count": 9,
   "metadata": {},
   "outputs": [
    {
     "name": "stdout",
     "output_type": "stream",
     "text": [
      "10\n"
     ]
    }
   ],
   "source": [
    "a=10\n",
    "\n",
    "if a==10:\n",
    "    print('10')\n",
    "     #print('입니다')"
   ]
  },
  {
   "cell_type": "code",
   "execution_count": 1,
   "metadata": {},
   "outputs": [
    {
     "data": {
      "text/plain": [
       "'여러줄에 걸쳐서\\n출력을 하고싶다면???\\n이렇게 하면 된다고 \\n합니다.'"
      ]
     },
     "execution_count": 1,
     "metadata": {},
     "output_type": "execute_result"
    }
   ],
   "source": [
    "'''여러줄에 걸쳐서\n",
    "출력을 하고싶다면???\n",
    "이렇게 하면 된다고 \n",
    "합니다.'''"
   ]
  },
  {
   "cell_type": "code",
   "execution_count": 2,
   "metadata": {},
   "outputs": [
    {
     "ename": "IndentationError",
     "evalue": "unexpected indent (<ipython-input-2-92780ac995ac>, line 2)",
     "output_type": "error",
     "traceback": [
      "\u001b[1;36m  File \u001b[1;32m\"<ipython-input-2-92780ac995ac>\"\u001b[1;36m, line \u001b[1;32m2\u001b[0m\n\u001b[1;33m    012345678901\u001b[0m\n\u001b[1;37m    ^\u001b[0m\n\u001b[1;31mIndentationError\u001b[0m\u001b[1;31m:\u001b[0m unexpected indent\n"
     ]
    }
   ],
   "source": [
    "a = 'hello python'\n",
    "     012345678901\n",
    "     \n",
    "a[0] = 'h'\n",
    "a[11] = 'n'\n",
    "a[-1] = 'n'    # -1은 뒤에서 부터 인덱싱할 때 사용. 참고로 -0은 0과 같으므로 h를 가리킴"
   ]
  },
  {
   "cell_type": "code",
   "execution_count": 3,
   "metadata": {},
   "outputs": [
    {
     "ename": "TypeError",
     "evalue": "'str' object does not support item assignment",
     "output_type": "error",
     "traceback": [
      "\u001b[1;31m---------------------------------------------------------------------------\u001b[0m",
      "\u001b[1;31mTypeError\u001b[0m                                 Traceback (most recent call last)",
      "\u001b[1;32m<ipython-input-3-a13371ad84a4>\u001b[0m in \u001b[0;36m<module>\u001b[1;34m\u001b[0m\n\u001b[0;32m      1\u001b[0m \u001b[0ma\u001b[0m \u001b[1;33m=\u001b[0m \u001b[1;34m'hello python'\u001b[0m\u001b[1;33m\u001b[0m\u001b[1;33m\u001b[0m\u001b[0m\n\u001b[1;32m----> 2\u001b[1;33m \u001b[0ma\u001b[0m\u001b[1;33m[\u001b[0m\u001b[1;36m0\u001b[0m\u001b[1;33m]\u001b[0m \u001b[1;33m=\u001b[0m \u001b[1;34m'h'\u001b[0m\u001b[1;33m\u001b[0m\u001b[1;33m\u001b[0m\u001b[0m\n\u001b[0m\u001b[0;32m      3\u001b[0m \u001b[0ma\u001b[0m\u001b[1;33m[\u001b[0m\u001b[1;36m11\u001b[0m\u001b[1;33m]\u001b[0m \u001b[1;33m=\u001b[0m \u001b[1;34m'n'\u001b[0m\u001b[1;33m\u001b[0m\u001b[1;33m\u001b[0m\u001b[0m\n\u001b[0;32m      4\u001b[0m \u001b[0ma\u001b[0m\u001b[1;33m[\u001b[0m\u001b[1;33m-\u001b[0m\u001b[1;36m1\u001b[0m\u001b[1;33m]\u001b[0m \u001b[1;33m=\u001b[0m \u001b[1;34m'n'\u001b[0m    \u001b[1;31m# -1은 뒤에서 부터 인덱싱할 때 사용. 참고로 -0은 0과 같으므로 h를 가리킴\u001b[0m\u001b[1;33m\u001b[0m\u001b[1;33m\u001b[0m\u001b[0m\n",
      "\u001b[1;31mTypeError\u001b[0m: 'str' object does not support item assignment"
     ]
    }
   ],
   "source": [
    "a = 'hello python'\n",
    "a[0] = 'h'\n",
    "a[11] = 'n'\n",
    "a[-1] = 'n'    # -1은 뒤에서 부터 인덱싱할 때 사용. 참고로 -0은 0과 같으므로 h를 가리킴"
   ]
  },
  {
   "cell_type": "code",
   "execution_count": 4,
   "metadata": {},
   "outputs": [],
   "source": [
    "a = 'hello python'"
   ]
  },
  {
   "cell_type": "code",
   "execution_count": 5,
   "metadata": {},
   "outputs": [
    {
     "data": {
      "text/plain": [
       "'h'"
      ]
     },
     "execution_count": 5,
     "metadata": {},
     "output_type": "execute_result"
    }
   ],
   "source": [
    "a[0]"
   ]
  },
  {
   "cell_type": "code",
   "execution_count": 6,
   "metadata": {},
   "outputs": [
    {
     "data": {
      "text/plain": [
       "'n'"
      ]
     },
     "execution_count": 6,
     "metadata": {},
     "output_type": "execute_result"
    }
   ],
   "source": [
    "a[11]"
   ]
  },
  {
   "cell_type": "code",
   "execution_count": 7,
   "metadata": {},
   "outputs": [
    {
     "data": {
      "text/plain": [
       "'n'"
      ]
     },
     "execution_count": 7,
     "metadata": {},
     "output_type": "execute_result"
    }
   ],
   "source": [
    "a[-1]"
   ]
  },
  {
   "cell_type": "code",
   "execution_count": 8,
   "metadata": {},
   "outputs": [
    {
     "data": {
      "text/plain": [
       "'ello'"
      ]
     },
     "execution_count": 8,
     "metadata": {},
     "output_type": "execute_result"
    }
   ],
   "source": [
    "a[1:5]"
   ]
  },
  {
   "cell_type": "code",
   "execution_count": 9,
   "metadata": {},
   "outputs": [
    {
     "data": {
      "text/plain": [
       "'hell'"
      ]
     },
     "execution_count": 9,
     "metadata": {},
     "output_type": "execute_result"
    }
   ],
   "source": [
    "a[0:4]"
   ]
  },
  {
   "cell_type": "code",
   "execution_count": 11,
   "metadata": {},
   "outputs": [
    {
     "data": {
      "text/plain": [
       "12"
      ]
     },
     "execution_count": 11,
     "metadata": {},
     "output_type": "execute_result"
    }
   ],
   "source": [
    "len(a)"
   ]
  },
  {
   "cell_type": "code",
   "execution_count": 14,
   "metadata": {},
   "outputs": [],
   "source": [
    "b = \"현재 시간은 오전 7시입니다\""
   ]
  },
  {
   "cell_type": "code",
   "execution_count": 18,
   "metadata": {},
   "outputs": [
    {
     "data": {
      "text/plain": [
       "'현재 시간은 오전 7시입니다.'"
      ]
     },
     "execution_count": 18,
     "metadata": {},
     "output_type": "execute_result"
    }
   ],
   "source": [
    "time = 7\n",
    "f\"현재 시간은 오전 {time}시입니다.\""
   ]
  },
  {
   "cell_type": "code",
   "execution_count": 19,
   "metadata": {},
   "outputs": [
    {
     "data": {
      "text/plain": [
       "'현재 시간은 오전 7시입니다.'"
      ]
     },
     "execution_count": 19,
     "metadata": {},
     "output_type": "execute_result"
    }
   ],
   "source": [
    "time = 7\n",
    "f\"현재 시간은 오전 {time}시입니다.\""
   ]
  },
  {
   "cell_type": "code",
   "execution_count": 20,
   "metadata": {},
   "outputs": [],
   "source": [
    "time=2"
   ]
  },
  {
   "cell_type": "code",
   "execution_count": 21,
   "metadata": {},
   "outputs": [
    {
     "data": {
      "text/plain": [
       "'지금 시간은 몇시? 오전1시랍니다~!'"
      ]
     },
     "execution_count": 21,
     "metadata": {},
     "output_type": "execute_result"
    }
   ],
   "source": [
    "time=1\n",
    "f\"지금 시간은 몇시? 오전{time}시랍니다~!\""
   ]
  },
  {
   "cell_type": "code",
   "execution_count": 22,
   "metadata": {},
   "outputs": [
    {
     "data": {
      "text/plain": [
       "'현재 시간은 오전 7시입니다.'"
      ]
     },
     "execution_count": 22,
     "metadata": {},
     "output_type": "execute_result"
    }
   ],
   "source": [
    "\"현재 시간은 %s %d시입니다.\" %('오전', 7)"
   ]
  },
  {
   "cell_type": "code",
   "execution_count": 28,
   "metadata": {},
   "outputs": [
    {
     "data": {
      "text/plain": [
       "['list', 'tuple', 'set', 'dictionary']"
      ]
     },
     "execution_count": 28,
     "metadata": {},
     "output_type": "execute_result"
    }
   ],
   "source": [
    "a=['list', 'tuple', 'set', 'dictionary']\n",
    "a"
   ]
  },
  {
   "cell_type": "code",
   "execution_count": 30,
   "metadata": {},
   "outputs": [
    {
     "data": {
      "text/plain": [
       "[1, 'hello', [2, 3, 4]]"
      ]
     },
     "execution_count": 30,
     "metadata": {},
     "output_type": "execute_result"
    }
   ],
   "source": [
    "list_1 = [1,'hello',[2,3,4]]\n",
    "list_1"
   ]
  },
  {
   "cell_type": "code",
   "execution_count": 31,
   "metadata": {},
   "outputs": [
    {
     "data": {
      "text/plain": [
       "1"
      ]
     },
     "execution_count": 31,
     "metadata": {},
     "output_type": "execute_result"
    }
   ],
   "source": [
    "list_1[0]c"
   ]
  },
  {
   "cell_type": "code",
   "execution_count": 32,
   "metadata": {},
   "outputs": [
    {
     "name": "stdout",
     "output_type": "stream",
     "text": [
      "[1, 'hello', [2, 3, 4]]\n"
     ]
    }
   ],
   "source": [
    "print(list_1[:]) "
   ]
  },
  {
   "cell_type": "code",
   "execution_count": null,
   "metadata": {},
   "outputs": [],
   "source": []
  },
  {
   "cell_type": "code",
   "execution_count": 33,
   "metadata": {},
   "outputs": [
    {
     "data": {
      "text/plain": [
       "[1, 'hello', [2, 3, 4]]"
      ]
     },
     "execution_count": 33,
     "metadata": {},
     "output_type": "execute_result"
    }
   ],
   "source": [
    "list_1"
   ]
  },
  {
   "cell_type": "code",
   "execution_count": 35,
   "metadata": {},
   "outputs": [
    {
     "data": {
      "text/plain": [
       "4"
      ]
     },
     "execution_count": 35,
     "metadata": {},
     "output_type": "execute_result"
    }
   ],
   "source": [
    "a=('Hello, world!')\n",
    "a.index('o')"
   ]
  },
  {
   "cell_type": "code",
   "execution_count": 40,
   "metadata": {},
   "outputs": [
    {
     "ename": "ValueError",
     "evalue": "substring not found",
     "output_type": "error",
     "traceback": [
      "\u001b[1;31m---------------------------------------------------------------------------\u001b[0m",
      "\u001b[1;31mValueError\u001b[0m                                Traceback (most recent call last)",
      "\u001b[1;32m<ipython-input-40-c2bbbc1a09f5>\u001b[0m in \u001b[0;36m<module>\u001b[1;34m\u001b[0m\n\u001b[0;32m      1\u001b[0m \u001b[0ma\u001b[0m \u001b[1;33m=\u001b[0m \u001b[1;34m\"Hello, World\"\u001b[0m\u001b[1;33m\u001b[0m\u001b[1;33m\u001b[0m\u001b[0m\n\u001b[1;32m----> 2\u001b[1;33m \u001b[0ma\u001b[0m\u001b[1;33m.\u001b[0m\u001b[0mindex\u001b[0m\u001b[1;33m(\u001b[0m\u001b[1;34m't'\u001b[0m\u001b[1;33m)\u001b[0m \u001b[1;31m#a.find('t') find는 없는 문자를 -1로 알려주고 index는 에러로 표시한다\u001b[0m\u001b[1;33m\u001b[0m\u001b[1;33m\u001b[0m\u001b[0m\n\u001b[0m",
      "\u001b[1;31mValueError\u001b[0m: substring not found"
     ]
    }
   ],
   "source": [
    "a = \"Hello, World\"\n",
    "a.index('t') #a.find('t') find는 없는 문자를 -1로 알려주고 index는 에러로 표시한다\n"
   ]
  },
  {
   "cell_type": "code",
   "execution_count": 41,
   "metadata": {},
   "outputs": [
    {
     "data": {
      "text/plain": [
       "-1"
      ]
     },
     "execution_count": 41,
     "metadata": {},
     "output_type": "execute_result"
    }
   ],
   "source": [
    "a = \"Hello, World\"\n",
    "a.find('t') #a.find('t') find는 없는 문자를 -1로 알려주고 index는 에러로 표시한다\n"
   ]
  },
  {
   "cell_type": "code",
   "execution_count": 42,
   "metadata": {},
   "outputs": [
    {
     "data": {
      "text/plain": [
       "'1234'"
      ]
     },
     "execution_count": 42,
     "metadata": {},
     "output_type": "execute_result"
    }
   ],
   "source": [
    "v=\"\"\n",
    "v.join('1234')"
   ]
  },
  {
   "cell_type": "code",
   "execution_count": 43,
   "metadata": {},
   "outputs": [
    {
     "data": {
      "text/plain": [
       "'1122123123124'"
      ]
     },
     "execution_count": 43,
     "metadata": {},
     "output_type": "execute_result"
    }
   ],
   "source": [
    "v=\"12\"\n",
    "v.join('12334')\n"
   ]
  },
  {
   "cell_type": "code",
   "execution_count": 44,
   "metadata": {},
   "outputs": [
    {
     "data": {
      "text/plain": [
       "'712381239'"
      ]
     },
     "execution_count": 44,
     "metadata": {},
     "output_type": "execute_result"
    }
   ],
   "source": [
    "v=\"123\"\n",
    "v.join('789')"
   ]
  },
  {
   "cell_type": "code",
   "execution_count": 45,
   "metadata": {},
   "outputs": [
    {
     "data": {
      "text/plain": [
       "'1234'"
      ]
     },
     "execution_count": 45,
     "metadata": {},
     "output_type": "execute_result"
    }
   ],
   "source": [
    "m=\"\"\n",
    "m.join('1234')\n"
   ]
  },
  {
   "cell_type": "code",
   "execution_count": 46,
   "metadata": {},
   "outputs": [
    {
     "data": {
      "text/plain": [
       "'1,,,2,,,3,,,4'"
      ]
     },
     "execution_count": 46,
     "metadata": {},
     "output_type": "execute_result"
    }
   ],
   "source": [
    "s=\",\"\n",
    "s.join('1234')"
   ]
  },
  {
   "cell_type": "code",
   "execution_count": 47,
   "metadata": {},
   "outputs": [
    {
     "data": {
      "text/plain": [
       "'1,2,3,4'"
      ]
     },
     "execution_count": 47,
     "metadata": {},
     "output_type": "execute_result"
    }
   ],
   "source": [
    "s=\",\"\n",
    "s.join('1234')"
   ]
  },
  {
   "cell_type": "code",
   "execution_count": 48,
   "metadata": {},
   "outputs": [
    {
     "ename": "SyntaxError",
     "evalue": "invalid syntax (<ipython-input-48-3820896b1a8d>, line 1)",
     "output_type": "error",
     "traceback": [
      "\u001b[1;36m  File \u001b[1;32m\"<ipython-input-48-3820896b1a8d>\"\u001b[1;36m, line \u001b[1;32m1\u001b[0m\n\u001b[1;33m    a=\u001b[0m\n\u001b[1;37m       ^\u001b[0m\n\u001b[1;31mSyntaxError\u001b[0m\u001b[1;31m:\u001b[0m invalid syntax\n"
     ]
    }
   ],
   "source": [
    "a= "
   ]
  },
  {
   "cell_type": "code",
   "execution_count": 49,
   "metadata": {},
   "outputs": [
    {
     "data": {
      "text/plain": [
       "[\"He's\", 'reading', 'a', 'book']"
      ]
     },
     "execution_count": 49,
     "metadata": {},
     "output_type": "execute_result"
    }
   ],
   "source": [
    "a= \"He's reading a book\"\n",
    "a.split()"
   ]
  },
  {
   "cell_type": "code",
   "execution_count": 50,
   "metadata": {},
   "outputs": [],
   "source": [
    "a=\"03-1234-5678\""
   ]
  },
  {
   "cell_type": "code",
   "execution_count": 52,
   "metadata": {},
   "outputs": [
    {
     "ename": "SyntaxError",
     "evalue": "invalid syntax (<ipython-input-52-6eb84cf0d8cf>, line 2)",
     "output_type": "error",
     "traceback": [
      "\u001b[1;36m  File \u001b[1;32m\"<ipython-input-52-6eb84cf0d8cf>\"\u001b[1;36m, line \u001b[1;32m2\u001b[0m\n\u001b[1;33m    a.split(-)\u001b[0m\n\u001b[1;37m             ^\u001b[0m\n\u001b[1;31mSyntaxError\u001b[0m\u001b[1;31m:\u001b[0m invalid syntax\n"
     ]
    }
   ],
   "source": [
    "a=\"03-1234-5678\"\n",
    "a.split(-)"
   ]
  },
  {
   "cell_type": "code",
   "execution_count": 53,
   "metadata": {},
   "outputs": [
    {
     "data": {
      "text/plain": [
       "['03', '1234', '5678']"
      ]
     },
     "execution_count": 53,
     "metadata": {},
     "output_type": "execute_result"
    }
   ],
   "source": [
    "a=\"03-1234-5678\"\n",
    "a.split('-')"
   ]
  },
  {
   "cell_type": "code",
   "execution_count": 59,
   "metadata": {},
   "outputs": [
    {
     "data": {
      "text/plain": [
       "1"
      ]
     },
     "execution_count": 59,
     "metadata": {},
     "output_type": "execute_result"
    }
   ],
   "source": [
    "a=\"02-1234-5678\"\n",
    "a.count('0')"
   ]
  },
  {
   "cell_type": "code",
   "execution_count": 68,
   "metadata": {},
   "outputs": [
    {
     "data": {
      "text/plain": [
       "2"
      ]
     },
     "execution_count": 68,
     "metadata": {},
     "output_type": "execute_result"
    }
   ],
   "source": [
    "a = \"hhappy\"\n",
    "a.count('h')    "
   ]
  },
  {
   "cell_type": "code",
   "execution_count": 69,
   "metadata": {},
   "outputs": [],
   "source": [
    "a=[]"
   ]
  },
  {
   "cell_type": "code",
   "execution_count": 73,
   "metadata": {},
   "outputs": [],
   "source": [
    "a=list()"
   ]
  },
  {
   "cell_type": "code",
   "execution_count": 81,
   "metadata": {},
   "outputs": [
    {
     "data": {
      "text/plain": [
       "[2, 4, 8]"
      ]
     },
     "execution_count": 81,
     "metadata": {},
     "output_type": "execute_result"
    }
   ],
   "source": [
    "a= [1, 3, 5]\n",
    "a\n",
    "b= [2, 4, 8]\n",
    "b"
   ]
  },
  {
   "cell_type": "code",
   "execution_count": 88,
   "metadata": {},
   "outputs": [
    {
     "data": {
      "text/plain": [
       "[1, 'a', 'b', 'c', 'b', 'c', 5]"
      ]
     },
     "execution_count": 88,
     "metadata": {},
     "output_type": "execute_result"
    }
   ],
   "source": [
    "a[1:2]=['a','b','c']\n",
    "a"
   ]
  },
  {
   "cell_type": "code",
   "execution_count": 89,
   "metadata": {},
   "outputs": [
    {
     "data": {
      "text/plain": [
       "[0, 1, 2, 3, 9]"
      ]
     },
     "execution_count": 89,
     "metadata": {},
     "output_type": "execute_result"
    }
   ],
   "source": [
    "a=[9,2,3,1,0]\n",
    "a.sort()\n",
    "a"
   ]
  },
  {
   "cell_type": "code",
   "execution_count": 93,
   "metadata": {
    "scrolled": true
   },
   "outputs": [
    {
     "data": {
      "text/plain": [
       "['i', 'h']"
      ]
     },
     "execution_count": 93,
     "metadata": {},
     "output_type": "execute_result"
    }
   ],
   "source": [
    "a = ['i', 'h']\n",
    "a.sort()\n",
    "a.reverse()\n",
    "ab"
   ]
  },
  {
   "cell_type": "code",
   "execution_count": 94,
   "metadata": {},
   "outputs": [
    {
     "data": {
      "text/plain": [
       "[7, 1, 2, 3, 4, 5]"
      ]
     },
     "execution_count": 94,
     "metadata": {},
     "output_type": "execute_result"
    }
   ],
   "source": [
    "a= [1,2,3,4,5]\n",
    "a.insert(0,7)\n",
    "ab"
   ]
  },
  {
   "cell_type": "code",
   "execution_count": 95,
   "metadata": {},
   "outputs": [
    {
     "data": {
      "text/plain": [
       "[7, 1, 2, 3, 4, 5]"
      ]
     },
     "execution_count": 95,
     "metadata": {},
     "output_type": "execute_result"
    }
   ],
   "source": [
    "a"
   ]
  },
  {
   "cell_type": "code",
   "execution_count": 104,
   "metadata": {},
   "outputs": [
    {
     "data": {
      "text/plain": [
       "{'book': 10000, 'pen': 1000, 'case': 5000}"
      ]
     },
     "execution_count": 104,
     "metadata": {},
     "output_type": "execute_result"
    }
   ],
   "source": [
    "dic = {'book':10000, 'pen':1000, 'case':5000 }\n",
    "dic\n"
   ]
  },
  {
   "cell_type": "code",
   "execution_count": 107,
   "metadata": {},
   "outputs": [
    {
     "data": {
      "text/plain": [
       "{1: ['a', 'b', 'c']}"
      ]
     },
     "execution_count": 107,
     "metadata": {},
     "output_type": "execute_result"
    }
   ],
   "source": [
    "dic1 = {1:'hello'}\n",
    "dic2 = {1:['a','b','c']}\n",
    "dic3 = {1:(1,2,3)}"
   ]
  },
  {
   "cell_type": "code",
   "execution_count": 113,
   "metadata": {},
   "outputs": [
    {
     "name": "stdout",
     "output_type": "stream",
     "text": [
      "프린트 한다.\n"
     ]
    }
   ],
   "source": [
    "hungry = 1\n",
    "\n",
    "if hungry:\n",
    "    print(\"프린트 한다.\")\n",
    "else:\n",
    "    print(\"프린트를 하지않는다.\")        "
   ]
  },
  {
   "cell_type": "code",
   "execution_count": 114,
   "metadata": {},
   "outputs": [
    {
     "name": "stdout",
     "output_type": "stream",
     "text": [
      "밥을 안먹는다.\n"
     ]
    }
   ],
   "source": [
    "hungry = 40\n",
    "if hungry >= 50:\n",
    "    print(\"밥을 먹는다.\")\n",
    "else :\n",
    "    print(\"밥을 안먹는다.\")"
   ]
  },
  {
   "cell_type": "code",
   "execution_count": 116,
   "metadata": {},
   "outputs": [
    {
     "name": "stdout",
     "output_type": "stream",
     "text": [
      "True\n"
     ]
    }
   ],
   "source": [
    "a=0\n",
    "b=1\n",
    "if a or b:\n",
    "    print(\"True\")\n",
    "else:\n",
    "    print(\"False\")"
   ]
  },
  {
   "cell_type": "code",
   "execution_count": 124,
   "metadata": {},
   "outputs": [],
   "source": [
    "import turtle\n",
    "\n",
    "turtle.shape('turtle')\n",
    "\n",
    "distance = 100\n",
    "angle = 180-35\n",
    "turtle.fd(distance)\n",
    "turtle.left(angle)\n",
    "turtle.fd(distance)\n",
    "turtle.left(angle)\n",
    "turtle.fd(distance)\n",
    "turtle.left(angle)\n",
    "turtle.fd(distance)\n",
    "turtle.left(angle)\n",
    "turtle.fd(distance)\n",
    "turtle.left(angle)"
   ]
  },
  {
   "cell_type": "code",
   "execution_count": 27,
   "metadata": {},
   "outputs": [],
   "source": [
    "import pandas as pd\n",
    "df2 = pd.read_csv('merge_move6229_20220422.csv', encoding='CP949')"
   ]
  },
  {
   "cell_type": "code",
   "execution_count": 28,
   "metadata": {
    "scrolled": true
   },
   "outputs": [
    {
     "data": {
      "text/html": [
       "<div>\n",
       "<style scoped>\n",
       "    .dataframe tbody tr th:only-of-type {\n",
       "        vertical-align: middle;\n",
       "    }\n",
       "\n",
       "    .dataframe tbody tr th {\n",
       "        vertical-align: top;\n",
       "    }\n",
       "\n",
       "    .dataframe thead th {\n",
       "        text-align: right;\n",
       "    }\n",
       "</style>\n",
       "<table border=\"1\" class=\"dataframe\">\n",
       "  <thead>\n",
       "    <tr style=\"text-align: right;\">\n",
       "      <th></th>\n",
       "      <th>시리얼</th>\n",
       "      <th>관리번호</th>\n",
       "      <th>구분</th>\n",
       "      <th>설치장소</th>\n",
       "      <th>담당기관</th>\n",
       "      <th>위도</th>\n",
       "      <th>경도</th>\n",
       "      <th>obs</th>\n",
       "      <th>초미세먼지</th>\n",
       "      <th>미세먼지</th>\n",
       "      <th>...</th>\n",
       "      <th>이산화질소</th>\n",
       "      <th>이산화황</th>\n",
       "      <th>암모니아</th>\n",
       "      <th>황화수소</th>\n",
       "      <th>month</th>\n",
       "      <th>date</th>\n",
       "      <th>date.time</th>\n",
       "      <th>onlytime</th>\n",
       "      <th>time</th>\n",
       "      <th>공원비공원</th>\n",
       "    </tr>\n",
       "  </thead>\n",
       "  <tbody>\n",
       "    <tr>\n",
       "      <th>0</th>\n",
       "      <td>OC3CL200230</td>\n",
       "      <td>이동형-2001</td>\n",
       "      <td>기상청</td>\n",
       "      <td>기상기후대 폴대</td>\n",
       "      <td>기상청</td>\n",
       "      <td>37.573940</td>\n",
       "      <td>126.829500</td>\n",
       "      <td>78316</td>\n",
       "      <td>43</td>\n",
       "      <td>63</td>\n",
       "      <td>...</td>\n",
       "      <td>0.027</td>\n",
       "      <td>0.004</td>\n",
       "      <td>0.206</td>\n",
       "      <td>NaN</td>\n",
       "      <td>7</td>\n",
       "      <td>2021-07-01</td>\n",
       "      <td>2021-07-01 00</td>\n",
       "      <td>0</td>\n",
       "      <td>1</td>\n",
       "      <td>인근지</td>\n",
       "    </tr>\n",
       "    <tr>\n",
       "      <th>1</th>\n",
       "      <td>OC3CL200230</td>\n",
       "      <td>이동형-2001</td>\n",
       "      <td>기상청</td>\n",
       "      <td>기상기후대 폴대</td>\n",
       "      <td>기상청</td>\n",
       "      <td>37.573940</td>\n",
       "      <td>126.829500</td>\n",
       "      <td>81571</td>\n",
       "      <td>39</td>\n",
       "      <td>57</td>\n",
       "      <td>...</td>\n",
       "      <td>0.028</td>\n",
       "      <td>0.004</td>\n",
       "      <td>0.151</td>\n",
       "      <td>NaN</td>\n",
       "      <td>7</td>\n",
       "      <td>2021-07-01</td>\n",
       "      <td>2021-07-01 01</td>\n",
       "      <td>1</td>\n",
       "      <td>2</td>\n",
       "      <td>인근지</td>\n",
       "    </tr>\n",
       "    <tr>\n",
       "      <th>2</th>\n",
       "      <td>OC3CL200230</td>\n",
       "      <td>이동형-2001</td>\n",
       "      <td>기상청</td>\n",
       "      <td>기상기후대 폴대</td>\n",
       "      <td>기상청</td>\n",
       "      <td>37.573940</td>\n",
       "      <td>126.829500</td>\n",
       "      <td>84827</td>\n",
       "      <td>38</td>\n",
       "      <td>56</td>\n",
       "      <td>...</td>\n",
       "      <td>0.029</td>\n",
       "      <td>0.004</td>\n",
       "      <td>0.145</td>\n",
       "      <td>NaN</td>\n",
       "      <td>7</td>\n",
       "      <td>2021-07-01</td>\n",
       "      <td>2021-07-01 02</td>\n",
       "      <td>2</td>\n",
       "      <td>3</td>\n",
       "      <td>인근지</td>\n",
       "    </tr>\n",
       "    <tr>\n",
       "      <th>3</th>\n",
       "      <td>OC3CL200230</td>\n",
       "      <td>이동형-2001</td>\n",
       "      <td>기상청</td>\n",
       "      <td>기상기후대 폴대</td>\n",
       "      <td>기상청</td>\n",
       "      <td>37.573940</td>\n",
       "      <td>126.829500</td>\n",
       "      <td>88080</td>\n",
       "      <td>40</td>\n",
       "      <td>59</td>\n",
       "      <td>...</td>\n",
       "      <td>0.032</td>\n",
       "      <td>0.004</td>\n",
       "      <td>0.114</td>\n",
       "      <td>NaN</td>\n",
       "      <td>7</td>\n",
       "      <td>2021-07-01</td>\n",
       "      <td>2021-07-01 03</td>\n",
       "      <td>3</td>\n",
       "      <td>4</td>\n",
       "      <td>인근지</td>\n",
       "    </tr>\n",
       "    <tr>\n",
       "      <th>4</th>\n",
       "      <td>OC3CL200230</td>\n",
       "      <td>이동형-2001</td>\n",
       "      <td>기상청</td>\n",
       "      <td>기상기후대 폴대</td>\n",
       "      <td>기상청</td>\n",
       "      <td>37.573940</td>\n",
       "      <td>126.829500</td>\n",
       "      <td>91331</td>\n",
       "      <td>39</td>\n",
       "      <td>57</td>\n",
       "      <td>...</td>\n",
       "      <td>0.029</td>\n",
       "      <td>0.004</td>\n",
       "      <td>0.157</td>\n",
       "      <td>NaN</td>\n",
       "      <td>7</td>\n",
       "      <td>2021-07-01</td>\n",
       "      <td>2021-07-01 04</td>\n",
       "      <td>4</td>\n",
       "      <td>5</td>\n",
       "      <td>인근지</td>\n",
       "    </tr>\n",
       "    <tr>\n",
       "      <th>...</th>\n",
       "      <td>...</td>\n",
       "      <td>...</td>\n",
       "      <td>...</td>\n",
       "      <td>...</td>\n",
       "      <td>...</td>\n",
       "      <td>...</td>\n",
       "      <td>...</td>\n",
       "      <td>...</td>\n",
       "      <td>...</td>\n",
       "      <td>...</td>\n",
       "      <td>...</td>\n",
       "      <td>...</td>\n",
       "      <td>...</td>\n",
       "      <td>...</td>\n",
       "      <td>...</td>\n",
       "      <td>...</td>\n",
       "      <td>...</td>\n",
       "      <td>...</td>\n",
       "      <td>...</td>\n",
       "      <td>...</td>\n",
       "      <td>...</td>\n",
       "    </tr>\n",
       "    <tr>\n",
       "      <th>34644</th>\n",
       "      <td>OC3CL200259</td>\n",
       "      <td>이동형-2030</td>\n",
       "      <td>기상청</td>\n",
       "      <td>건물 옥상</td>\n",
       "      <td>기상청</td>\n",
       "      <td>37.510855</td>\n",
       "      <td>127.097153</td>\n",
       "      <td>6513732</td>\n",
       "      <td>11</td>\n",
       "      <td>17</td>\n",
       "      <td>...</td>\n",
       "      <td>0.033</td>\n",
       "      <td>0.004</td>\n",
       "      <td>0.000</td>\n",
       "      <td>0.325</td>\n",
       "      <td>9</td>\n",
       "      <td>2021-09-30</td>\n",
       "      <td>2021-09-30 12</td>\n",
       "      <td>12</td>\n",
       "      <td>2098</td>\n",
       "      <td>인근지</td>\n",
       "    </tr>\n",
       "    <tr>\n",
       "      <th>34645</th>\n",
       "      <td>OC3CL200259</td>\n",
       "      <td>이동형-2030</td>\n",
       "      <td>기상청</td>\n",
       "      <td>건물 옥상</td>\n",
       "      <td>기상청</td>\n",
       "      <td>37.510855</td>\n",
       "      <td>127.097153</td>\n",
       "      <td>6517011</td>\n",
       "      <td>9</td>\n",
       "      <td>14</td>\n",
       "      <td>...</td>\n",
       "      <td>0.032</td>\n",
       "      <td>0.004</td>\n",
       "      <td>0.000</td>\n",
       "      <td>0.286</td>\n",
       "      <td>9</td>\n",
       "      <td>2021-09-30</td>\n",
       "      <td>2021-09-30 13</td>\n",
       "      <td>13</td>\n",
       "      <td>2099</td>\n",
       "      <td>인근지</td>\n",
       "    </tr>\n",
       "    <tr>\n",
       "      <th>34646</th>\n",
       "      <td>OC3CL200259</td>\n",
       "      <td>이동형-2030</td>\n",
       "      <td>기상청</td>\n",
       "      <td>건물 옥상</td>\n",
       "      <td>기상청</td>\n",
       "      <td>37.510855</td>\n",
       "      <td>127.097153</td>\n",
       "      <td>6520288</td>\n",
       "      <td>9</td>\n",
       "      <td>14</td>\n",
       "      <td>...</td>\n",
       "      <td>0.032</td>\n",
       "      <td>0.004</td>\n",
       "      <td>0.000</td>\n",
       "      <td>0.787</td>\n",
       "      <td>9</td>\n",
       "      <td>2021-09-30</td>\n",
       "      <td>2021-09-30 14</td>\n",
       "      <td>14</td>\n",
       "      <td>2100</td>\n",
       "      <td>인근지</td>\n",
       "    </tr>\n",
       "    <tr>\n",
       "      <th>34647</th>\n",
       "      <td>OC3CL200259</td>\n",
       "      <td>이동형-2030</td>\n",
       "      <td>기상청</td>\n",
       "      <td>건물 옥상</td>\n",
       "      <td>기상청</td>\n",
       "      <td>37.510855</td>\n",
       "      <td>127.097153</td>\n",
       "      <td>6523573</td>\n",
       "      <td>10</td>\n",
       "      <td>15</td>\n",
       "      <td>...</td>\n",
       "      <td>0.032</td>\n",
       "      <td>0.004</td>\n",
       "      <td>0.000</td>\n",
       "      <td>0.384</td>\n",
       "      <td>9</td>\n",
       "      <td>2021-09-30</td>\n",
       "      <td>2021-09-30 15</td>\n",
       "      <td>15</td>\n",
       "      <td>2101</td>\n",
       "      <td>인근지</td>\n",
       "    </tr>\n",
       "    <tr>\n",
       "      <th>34648</th>\n",
       "      <td>OC3CL200259</td>\n",
       "      <td>이동형-2030</td>\n",
       "      <td>기상청</td>\n",
       "      <td>건물 옥상</td>\n",
       "      <td>기상청</td>\n",
       "      <td>37.510855</td>\n",
       "      <td>127.097153</td>\n",
       "      <td>6526855</td>\n",
       "      <td>17</td>\n",
       "      <td>25</td>\n",
       "      <td>...</td>\n",
       "      <td>0.033</td>\n",
       "      <td>0.004</td>\n",
       "      <td>0.000</td>\n",
       "      <td>0.456</td>\n",
       "      <td>9</td>\n",
       "      <td>2021-09-30</td>\n",
       "      <td>2021-09-30 16</td>\n",
       "      <td>16</td>\n",
       "      <td>2102</td>\n",
       "      <td>인근지</td>\n",
       "    </tr>\n",
       "  </tbody>\n",
       "</table>\n",
       "<p>34649 rows × 28 columns</p>\n",
       "</div>"
      ],
      "text/plain": [
       "               시리얼      관리번호   구분      설치장소 담당기관         위도          경도  \\\n",
       "0      OC3CL200230  이동형-2001  기상청  기상기후대 폴대  기상청  37.573940  126.829500   \n",
       "1      OC3CL200230  이동형-2001  기상청  기상기후대 폴대  기상청  37.573940  126.829500   \n",
       "2      OC3CL200230  이동형-2001  기상청  기상기후대 폴대  기상청  37.573940  126.829500   \n",
       "3      OC3CL200230  이동형-2001  기상청  기상기후대 폴대  기상청  37.573940  126.829500   \n",
       "4      OC3CL200230  이동형-2001  기상청  기상기후대 폴대  기상청  37.573940  126.829500   \n",
       "...            ...       ...  ...       ...  ...        ...         ...   \n",
       "34644  OC3CL200259  이동형-2030  기상청     건물 옥상  기상청  37.510855  127.097153   \n",
       "34645  OC3CL200259  이동형-2030  기상청     건물 옥상  기상청  37.510855  127.097153   \n",
       "34646  OC3CL200259  이동형-2030  기상청     건물 옥상  기상청  37.510855  127.097153   \n",
       "34647  OC3CL200259  이동형-2030  기상청     건물 옥상  기상청  37.510855  127.097153   \n",
       "34648  OC3CL200259  이동형-2030  기상청     건물 옥상  기상청  37.510855  127.097153   \n",
       "\n",
       "           obs  초미세먼지  미세먼지  ...  이산화질소   이산화황   암모니아   황화수소  month  \\\n",
       "0        78316     43    63  ...  0.027  0.004  0.206    NaN      7   \n",
       "1        81571     39    57  ...  0.028  0.004  0.151    NaN      7   \n",
       "2        84827     38    56  ...  0.029  0.004  0.145    NaN      7   \n",
       "3        88080     40    59  ...  0.032  0.004  0.114    NaN      7   \n",
       "4        91331     39    57  ...  0.029  0.004  0.157    NaN      7   \n",
       "...        ...    ...   ...  ...    ...    ...    ...    ...    ...   \n",
       "34644  6513732     11    17  ...  0.033  0.004  0.000  0.325      9   \n",
       "34645  6517011      9    14  ...  0.032  0.004  0.000  0.286      9   \n",
       "34646  6520288      9    14  ...  0.032  0.004  0.000  0.787      9   \n",
       "34647  6523573     10    15  ...  0.032  0.004  0.000  0.384      9   \n",
       "34648  6526855     17    25  ...  0.033  0.004  0.000  0.456      9   \n",
       "\n",
       "             date      date.time  onlytime  time  공원비공원  \n",
       "0      2021-07-01  2021-07-01 00         0     1    인근지  \n",
       "1      2021-07-01  2021-07-01 01         1     2    인근지  \n",
       "2      2021-07-01  2021-07-01 02         2     3    인근지  \n",
       "3      2021-07-01  2021-07-01 03         3     4    인근지  \n",
       "4      2021-07-01  2021-07-01 04         4     5    인근지  \n",
       "...           ...            ...       ...   ...    ...  \n",
       "34644  2021-09-30  2021-09-30 12        12  2098    인근지  \n",
       "34645  2021-09-30  2021-09-30 13        13  2099    인근지  \n",
       "34646  2021-09-30  2021-09-30 14        14  2100    인근지  \n",
       "34647  2021-09-30  2021-09-30 15        15  2101    인근지  \n",
       "34648  2021-09-30  2021-09-30 16        16  2102    인근지  \n",
       "\n",
       "[34649 rows x 28 columns]"
      ]
     },
     "execution_count": 28,
     "metadata": {},
     "output_type": "execute_result"
    }
   ],
   "source": [
    "df2"
   ]
  },
  {
   "cell_type": "code",
   "execution_count": 29,
   "metadata": {},
   "outputs": [],
   "source": [
    "stock = [\"삼성전자\", \"LG전자\", \"SK하이닉스\", \"NAVER\", \"카카오\"]\n"
   ]
  },
  {
   "cell_type": "code",
   "execution_count": 30,
   "metadata": {
    "scrolled": true
   },
   "outputs": [
    {
     "name": "stdout",
     "output_type": "stream",
     "text": [
      "삼성전자\n",
      "LG전자\n",
      "SK하이닉스\n",
      "NAVER\n",
      "카카오\n"
     ]
    }
   ],
   "source": [
    "for i in stock:\n",
    "    print(i)"
   ]
  },
  {
   "cell_type": "code",
   "execution_count": 32,
   "metadata": {
    "scrolled": true
   },
   "outputs": [
    {
     "name": "stdout",
     "output_type": "stream",
     "text": [
      "삼성전자\n",
      "LG전자\n",
      "SK하이닉스\n",
      "NAVER\n",
      "카카오\n"
     ]
    }
   ],
   "source": [
    "import time\n",
    "\n",
    "for i in stock:\n",
    "    print(i)\n",
    "    time.sleep(0.5)"
   ]
  },
  {
   "cell_type": "code",
   "execution_count": 35,
   "metadata": {},
   "outputs": [
    {
     "name": "stdout",
     "output_type": "stream",
     "text": [
      "Requirement already satisfied: finance-datareader in c:\\programdata\\anaconda3\\lib\\site-packages (0.9.33)\n",
      "Requirement already satisfied: lxml in c:\\programdata\\anaconda3\\lib\\site-packages (from finance-datareader) (4.5.0)\n",
      "Requirement already satisfied: requests-file in c:\\programdata\\anaconda3\\lib\\site-packages (from finance-datareader) (1.5.1)\n",
      "Requirement already satisfied: tqdm in c:\\programdata\\anaconda3\\lib\\site-packages (from finance-datareader) (4.42.1)\n",
      "Requirement already satisfied: pandas>=0.19.2 in c:\\programdata\\anaconda3\\lib\\site-packages (from finance-datareader) (1.0.1)\n",
      "Requirement already satisfied: requests>=2.3.0 in c:\\programdata\\anaconda3\\lib\\site-packages (from finance-datareader) (2.22.0)\n",
      "Requirement already satisfied: six in c:\\programdata\\anaconda3\\lib\\site-packages (from requests-file->finance-datareader) (1.14.0)\n",
      "Requirement already satisfied: numpy>=1.13.3 in c:\\programdata\\anaconda3\\lib\\site-packages (from pandas>=0.19.2->finance-datareader) (1.18.1)\n",
      "Requirement already satisfied: python-dateutil>=2.6.1 in c:\\programdata\\anaconda3\\lib\\site-packages (from pandas>=0.19.2->finance-datareader) (2.8.1)\n",
      "Requirement already satisfied: pytz>=2017.2 in c:\\programdata\\anaconda3\\lib\\site-packages (from pandas>=0.19.2->finance-datareader) (2019.3)\n",
      "Requirement already satisfied: certifi>=2017.4.17 in c:\\programdata\\anaconda3\\lib\\site-packages (from requests>=2.3.0->finance-datareader) (2019.11.28)\n",
      "Requirement already satisfied: urllib3!=1.25.0,!=1.25.1,<1.26,>=1.21.1 in c:\\programdata\\anaconda3\\lib\\site-packages (from requests>=2.3.0->finance-datareader) (1.25.8)\n",
      "Requirement already satisfied: idna<2.9,>=2.5 in c:\\programdata\\anaconda3\\lib\\site-packages (from requests>=2.3.0->finance-datareader) (2.8)\n",
      "Requirement already satisfied: chardet<3.1.0,>=3.0.2 in c:\\programdata\\anaconda3\\lib\\site-packages (from requests>=2.3.0->finance-datareader) (3.0.4)\n",
      "Note: you may need to restart the kernel to use updated packages.\n"
     ]
    }
   ],
   "source": [
    "pip install finance-datareader"
   ]
  },
  {
   "cell_type": "code",
   "execution_count": 37,
   "metadata": {},
   "outputs": [],
   "source": [
    "import FinanceDataReader as fdr\n",
    "stocks = fdr.DataReader('005930', '2021-11-01', '2021-11-05')"
   ]
  },
  {
   "cell_type": "code",
   "execution_count": 40,
   "metadata": {},
   "outputs": [
    {
     "data": {
      "text/html": [
       "<div>\n",
       "<style scoped>\n",
       "    .dataframe tbody tr th:only-of-type {\n",
       "        vertical-align: middle;\n",
       "    }\n",
       "\n",
       "    .dataframe tbody tr th {\n",
       "        vertical-align: top;\n",
       "    }\n",
       "\n",
       "    .dataframe thead th {\n",
       "        text-align: right;\n",
       "    }\n",
       "</style>\n",
       "<table border=\"1\" class=\"dataframe\">\n",
       "  <thead>\n",
       "    <tr style=\"text-align: right;\">\n",
       "      <th></th>\n",
       "      <th>code</th>\n",
       "      <th>code</th>\n",
       "      <th>Open</th>\n",
       "      <th>High</th>\n",
       "      <th>Low</th>\n",
       "      <th>Close</th>\n",
       "      <th>Volume</th>\n",
       "      <th>Change</th>\n",
       "    </tr>\n",
       "    <tr>\n",
       "      <th>Date</th>\n",
       "      <th></th>\n",
       "      <th></th>\n",
       "      <th></th>\n",
       "      <th></th>\n",
       "      <th></th>\n",
       "      <th></th>\n",
       "      <th></th>\n",
       "      <th></th>\n",
       "    </tr>\n",
       "  </thead>\n",
       "  <tbody>\n",
       "    <tr>\n",
       "      <th>2021-11-01</th>\n",
       "      <td>005930</td>\n",
       "      <td>005930</td>\n",
       "      <td>70200</td>\n",
       "      <td>70600</td>\n",
       "      <td>69900</td>\n",
       "      <td>69900</td>\n",
       "      <td>11503729</td>\n",
       "      <td>0.001433</td>\n",
       "    </tr>\n",
       "    <tr>\n",
       "      <th>2021-11-02</th>\n",
       "      <td>005930</td>\n",
       "      <td>005930</td>\n",
       "      <td>70800</td>\n",
       "      <td>72200</td>\n",
       "      <td>70700</td>\n",
       "      <td>71500</td>\n",
       "      <td>16812570</td>\n",
       "      <td>0.022890</td>\n",
       "    </tr>\n",
       "    <tr>\n",
       "      <th>2021-11-03</th>\n",
       "      <td>005930</td>\n",
       "      <td>005930</td>\n",
       "      <td>71700</td>\n",
       "      <td>71700</td>\n",
       "      <td>70100</td>\n",
       "      <td>70400</td>\n",
       "      <td>12770428</td>\n",
       "      <td>-0.015385</td>\n",
       "    </tr>\n",
       "    <tr>\n",
       "      <th>2021-11-04</th>\n",
       "      <td>005930</td>\n",
       "      <td>005930</td>\n",
       "      <td>71200</td>\n",
       "      <td>71600</td>\n",
       "      <td>70500</td>\n",
       "      <td>70600</td>\n",
       "      <td>11818987</td>\n",
       "      <td>0.002841</td>\n",
       "    </tr>\n",
       "    <tr>\n",
       "      <th>2021-11-05</th>\n",
       "      <td>005930</td>\n",
       "      <td>005930</td>\n",
       "      <td>71600</td>\n",
       "      <td>71600</td>\n",
       "      <td>70200</td>\n",
       "      <td>70200</td>\n",
       "      <td>12667743</td>\n",
       "      <td>-0.005666</td>\n",
       "    </tr>\n",
       "  </tbody>\n",
       "</table>\n",
       "</div>"
      ],
      "text/plain": [
       "              code    code   Open   High    Low  Close    Volume    Change\n",
       "Date                                                                      \n",
       "2021-11-01  005930  005930  70200  70600  69900  69900  11503729  0.001433\n",
       "2021-11-02  005930  005930  70800  72200  70700  71500  16812570  0.022890\n",
       "2021-11-03  005930  005930  71700  71700  70100  70400  12770428 -0.015385\n",
       "2021-11-04  005930  005930  71200  71600  70500  70600  11818987  0.002841\n",
       "2021-11-05  005930  005930  71600  71600  70200  70200  12667743 -0.005666"
      ]
     },
     "execution_count": 40,
     "metadata": {},
     "output_type": "execute_result"
    }
   ],
   "source": [
    "stocks.insert(0, 'code', '005930', True)\n",
    "stocks "
   ]
  },
  {
   "cell_type": "code",
   "execution_count": 46,
   "metadata": {
    "scrolled": true
   },
   "outputs": [
    {
     "name": "stdout",
     "output_type": "stream",
     "text": [
      "      Symbol  Market             Name                    Sector  \\\n",
      "0     060310  KOSDAQ               3S                  전자부품 제조업   \n",
      "1     095570   KOSPI           AJ네트웍스           산업용 기계 및 장비 임대업   \n",
      "2     006840   KOSPI            AK홀딩스                    기타 금융업   \n",
      "3     054620  KOSDAQ           APS홀딩스                    기타 금융업   \n",
      "4     265520  KOSDAQ            AP시스템             특수 목적용 기계 제조업   \n",
      "...      ...     ...              ...                       ...   \n",
      "7724  000545   KOSPI            흥국화재우                       NaN   \n",
      "7725  003280   KOSPI             흥아해운                    해상 운송업   \n",
      "7726  037440  KOSDAQ               희림  건축기술, 엔지니어링 및 관련 기술 서비스업   \n",
      "7727  419890   KOSPI  히어로즈 단기채권ESG액티브                       NaN   \n",
      "7728  238490  KOSDAQ               힘스             특수 목적용 기계 제조업   \n",
      "\n",
      "                            Industry ListingDate SettleMonth  \\\n",
      "0                        반도체 웨이퍼 캐리어  2002-04-23         03월   \n",
      "1                렌탈(파렛트, OA장비, 건설장비)  2015-08-21         12월   \n",
      "2                               지주사업  1999-08-11         12월   \n",
      "3                        인터넷 트래픽 솔루션  2001-12-04         12월   \n",
      "4                        디스플레이 제조 장비  2017-04-07         12월   \n",
      "...                              ...         ...         ...   \n",
      "7724                             NaN         NaT         NaN   \n",
      "7725                  외항화물운송업(케미컬탱커)  1976-06-29         12월   \n",
      "7726                       설계 및 감리용역  2000-02-03         12월   \n",
      "7727                             NaN         NaT         NaN   \n",
      "7728  OLED Mask 인장기, OLED Mask 검사기 등  2017-07-20         12월   \n",
      "\n",
      "            Representative                       HomePage Region  \n",
      "0                      김세완           http://www.3sref.com  서울특별시  \n",
      "1                 박대현, 손삼달         http://www.ajnet.co.kr  서울특별시  \n",
      "2        채형석, 이석주(각자 대표이사)  http://www.aekyunggroup.co.kr  서울특별시  \n",
      "3                      정기로   http://www.apsholdings.co.kr    경기도  \n",
      "4                      김영주     http://www.apsystems.co.kr    경기도  \n",
      "...                    ...                            ...    ...  \n",
      "7724                   NaN                            NaN    NaN  \n",
      "7725                   이환구         http://www.heung-a.com  서울특별시  \n",
      "7726  정영균, 이목운, 허철호 (각자대표)          http://www.heerim.com  서울특별시  \n",
      "7727                   NaN                            NaN    NaN  \n",
      "7728                   김주환          http://www.hims.co.kr  인천광역시  \n",
      "\n",
      "[7729 rows x 10 columns]\n",
      "      Symbol  Market             Name                    Sector  \\\n",
      "0     060310  KOSDAQ               3S                  전자부품 제조업   \n",
      "1     095570   KOSPI           AJ네트웍스           산업용 기계 및 장비 임대업   \n",
      "2     006840   KOSPI            AK홀딩스                    기타 금융업   \n",
      "3     054620  KOSDAQ           APS홀딩스                    기타 금융업   \n",
      "4     265520  KOSDAQ            AP시스템             특수 목적용 기계 제조업   \n",
      "...      ...     ...              ...                       ...   \n",
      "7724  000545   KOSPI            흥국화재우                             \n",
      "7725  003280   KOSPI             흥아해운                    해상 운송업   \n",
      "7726  037440  KOSDAQ               희림  건축기술, 엔지니어링 및 관련 기술 서비스업   \n",
      "7727  419890   KOSPI  히어로즈 단기채권ESG액티브                             \n",
      "7728  238490  KOSDAQ               힘스             특수 목적용 기계 제조업   \n",
      "\n",
      "                            Industry          ListingDate SettleMonth  \\\n",
      "0                        반도체 웨이퍼 캐리어  2002-04-23 00:00:00         03월   \n",
      "1                렌탈(파렛트, OA장비, 건설장비)  2015-08-21 00:00:00         12월   \n",
      "2                               지주사업  1999-08-11 00:00:00         12월   \n",
      "3                        인터넷 트래픽 솔루션  2001-12-04 00:00:00         12월   \n",
      "4                        디스플레이 제조 장비  2017-04-07 00:00:00         12월   \n",
      "...                              ...                  ...         ...   \n",
      "7724                                                                    \n",
      "7725                  외항화물운송업(케미컬탱커)  1976-06-29 00:00:00         12월   \n",
      "7726                       설계 및 감리용역  2000-02-03 00:00:00         12월   \n",
      "7727                                                                    \n",
      "7728  OLED Mask 인장기, OLED Mask 검사기 등  2017-07-20 00:00:00         12월   \n",
      "\n",
      "            Representative                       HomePage Region  \n",
      "0                      김세완           http://www.3sref.com  서울특별시  \n",
      "1                 박대현, 손삼달         http://www.ajnet.co.kr  서울특별시  \n",
      "2        채형석, 이석주(각자 대표이사)  http://www.aekyunggroup.co.kr  서울특별시  \n",
      "3                      정기로   http://www.apsholdings.co.kr    경기도  \n",
      "4                      김영주     http://www.apsystems.co.kr    경기도  \n",
      "...                    ...                            ...    ...  \n",
      "7724                                                              \n",
      "7725                   이환구         http://www.heung-a.com  서울특별시  \n",
      "7726  정영균, 이목운, 허철호 (각자대표)          http://www.heerim.com  서울특별시  \n",
      "7727                                                              \n",
      "7728                   김주환          http://www.hims.co.kr  인천광역시  \n",
      "\n",
      "[7729 rows x 10 columns]\n"
     ]
    }
   ],
   "source": [
    "import FinanceDataReader as fdr\n",
    "\n",
    "stocks = fdr.StockListing('KRX') # 전 종목(코스피 + 코스닥 + 코넥스)\n",
    "print(stocks)\n",
    "\n",
    "result = stocks.fillna(\"\")\n",
    "print(result)"
   ]
  },
  {
   "cell_type": "code",
   "execution_count": 72,
   "metadata": {
    "scrolled": false
   },
   "outputs": [
    {
     "name": "stdout",
     "output_type": "stream",
     "text": [
      "0    1\n",
      "1    2\n",
      "2    3\n",
      "3    4\n",
      "4    5\n",
      "dtype: int64\n"
     ]
    }
   ],
   "source": [
    "import pandas as pd\n",
    "my_list = [1,2,3,4,5]\n",
    "my_list\n",
    "my_series = pd.Series(my_list)\n",
    "print(my_series)"
   ]
  },
  {
   "cell_type": "code",
   "execution_count": 84,
   "metadata": {},
   "outputs": [],
   "source": [
    "one = \"Hello\"\n",
    "two = \" world\""
   ]
  },
  {
   "cell_type": "code",
   "execution_count": 92,
   "metadata": {},
   "outputs": [
    {
     "data": {
      "text/plain": [
       "'Hello'"
      ]
     },
     "execution_count": 92,
     "metadata": {},
     "output_type": "execute_result"
    }
   ],
   "source": [
    "a=(one+two*2)\n",
    "a[0:5]"
   ]
  },
  {
   "cell_type": "code",
   "execution_count": 93,
   "metadata": {},
   "outputs": [
    {
     "data": {
      "text/plain": [
       "'짜장면 한 그릇에 6000원입니다.'"
      ]
     },
     "execution_count": 93,
     "metadata": {},
     "output_type": "execute_result"
    }
   ],
   "source": [
    "\"짜장면 한 그릇에 %d원입니다.\" %6000"
   ]
  },
  {
   "cell_type": "code",
   "execution_count": 103,
   "metadata": {},
   "outputs": [],
   "source": [
    "pocket = [\"phone\", \"garbage\"]\n",
    "card = 0\n",
    "giftcard = 0"
   ]
  },
  {
   "cell_type": "code",
   "execution_count": 104,
   "metadata": {},
   "outputs": [
    {
     "name": "stdout",
     "output_type": "stream",
     "text": [
      "안먹는다.\n"
     ]
    }
   ],
   "source": [
    "if \"money\" in pocket:\n",
    "    print(\"돈으로 밥을 먹는다.\")\n",
    "elif card:\n",
    "    print(\"카드로 밥을 먹는다.\")\n",
    "elif giftcard:\n",
    "    print(\"기프트카드로 밥을 먹는다.\")\n",
    "else:\n",
    "    print(\"안먹는다.\")"
   ]
  },
  {
   "cell_type": "code",
   "execution_count": null,
   "metadata": {},
   "outputs": [],
   "source": [
    "treeHit = 0\n",
    "while treeHit < 10:\n",
    "    treeHit = treeHit + 1\n",
    "    print(\"나무를 %d번 찍었습니다.\") %treeHit\n",
    "    if treeHit == 10:\n",
    "        print(\"나무 넘어갑니다.\")\n"
   ]
  },
  {
   "cell_type": "code",
   "execution_count": 13,
   "metadata": {},
   "outputs": [
    {
     "name": "stdout",
     "output_type": "stream",
     "text": [
      "나무를 2번 찍었습니다.\n",
      "나무를 3번 찍었습니다.\n",
      "나무를 4번 찍었습니다.\n",
      "나무를 5번 찍었습니다.\n",
      "나무를 6번 찍었습니다.\n",
      "나무를 7번 찍었습니다.\n",
      "나무를 8번 찍었습니다.\n",
      "나무를 9번 찍었습니다.\n",
      "나무를 10번 찍었습니다.\n",
      "나무 넘어갑니다.\n"
     ]
    }
   ],
   "source": [
    "treeHit = 1\n",
    "while treeHit < 10:\n",
    "    treeHit = treeHit +1\n",
    "    print(\"나무를 %d번 찍었습니다.\" % treeHit)\n",
    "    if treeHit == 10:\n",
    "        print(\"나무 넘어갑니다.\")"
   ]
  },
  {
   "cell_type": "code",
   "execution_count": 7,
   "metadata": {},
   "outputs": [
    {
     "name": "stdout",
     "output_type": "stream",
     "text": [
      "집에가는 시간은 4시입니다.\n",
      "집에가는 시간은 5시입니다.\n",
      "집에가는 시간은 6시입니다.\n",
      "집에 못갑니다.\n",
      "집에가는 시간은 7시입니다.\n",
      "집에가는 시간은 8시입니다.\n",
      "집에가는 시간은 9시입니다.\n",
      "집에가는 시간은 10시입니다.\n"
     ]
    }
   ],
   "source": [
    "treeHit = 3\n",
    "while treeHit < 10:\n",
    "    treeHit = treeHit+1\n",
    "    print(\"집에가는 시간은 %d시입니다.\" %treeHit)\n",
    "    if treeHit == 6:\n",
    "        print(\"집에 못갑니다.\")"
   ]
  },
  {
   "cell_type": "code",
   "execution_count": 14,
   "metadata": {},
   "outputs": [
    {
     "data": {
      "text/plain": [
       "2"
      ]
     },
     "execution_count": 14,
     "metadata": {},
     "output_type": "execute_result"
    }
   ],
   "source": [
    "1+1"
   ]
  },
  {
   "cell_type": "code",
   "execution_count": 36,
   "metadata": {},
   "outputs": [
    {
     "name": "stdout",
     "output_type": "stream",
     "text": [
      "failure\n"
     ]
    }
   ],
   "source": [
    "score=0\n",
    "message = \"success\" if score >= 60 else \"failure\"\n",
    "print(message)"
   ]
  },
  {
   "cell_type": "code",
   "execution_count": 37,
   "metadata": {
    "scrolled": true
   },
   "outputs": [
    {
     "name": "stdout",
     "output_type": "stream",
     "text": [
      "one\n",
      "two\n",
      "three\n",
      "four\n"
     ]
    }
   ],
   "source": [
    "test_list = ['one', 'two', 'three', 'four']\n",
    "for i in test_list:\n",
    "    print(i)"
   ]
  },
  {
   "cell_type": "code",
   "execution_count": 40,
   "metadata": {},
   "outputs": [
    {
     "name": "stdout",
     "output_type": "stream",
     "text": [
      "1번 학생은 합격입니다. 축하합니다\n",
      "3번 학생은 합격입니다. 축하합니다\n",
      "5번 학생은 합격입니다. 축하합니다\n"
     ]
    }
   ],
   "source": [
    "marks = [90, 25, 67, 45, 80]\n",
    "\n",
    "number = 0\n",
    "for mark in marks:\n",
    "    number = number + 1\n",
    "    if mark < 60:\n",
    "        continue \n",
    "    else:\n",
    "        print(\"%d번 학생은 합격입니다. 축하합니다\" %number)\n",
    "        \n"
   ]
  },
  {
   "cell_type": "code",
   "execution_count": 47,
   "metadata": {},
   "outputs": [
    {
     "name": "stdout",
     "output_type": "stream",
     "text": [
      "1번 학생 축하합니다. 합격입니다.\n",
      "3번 학생 축하합니다. 합격입니다.\n",
      "5번 학생 축하합니다. 합격입니다.\n"
     ]
    }
   ],
   "source": [
    "marks = [90, 25, 67, 45, 80]\n",
    "for number in range(len(marks)):\n",
    "    if marks[number] < 60: \n",
    "        continue\n",
    "    print(\"%d번 학생 축하합니다. 합격입니다.\" % (number+1))"
   ]
  },
  {
   "cell_type": "code",
   "execution_count": 8,
   "metadata": {},
   "outputs": [
    {
     "name": "stdout",
     "output_type": "stream",
     "text": [
      "4번 손님 차례입니다.\n",
      "5번 손님 차례입니다.\n"
     ]
    }
   ],
   "source": [
    "sales2 = [11,22,33,44,55]\n",
    "for c in range(len(sales2)):\n",
    "    if sales2[c] < 40:\n",
    "        continue\n",
    "    print(\"%d번 손님 차례입니다.\" %(c+1))\n",
    "    "
   ]
  },
  {
   "cell_type": "code",
   "execution_count": 49,
   "metadata": {},
   "outputs": [
    {
     "name": "stdout",
     "output_type": "stream",
     "text": [
      "2\n",
      "4\n",
      "6\n",
      "8\n",
      "10\n",
      "12\n",
      "14\n",
      "16\n",
      "18\n",
      "3\n",
      "6\n",
      "9\n",
      "12\n",
      "15\n",
      "18\n",
      "21\n",
      "24\n",
      "27\n",
      "4\n",
      "8\n",
      "12\n",
      "16\n",
      "20\n",
      "24\n",
      "28\n",
      "32\n",
      "36\n",
      "5\n",
      "10\n",
      "15\n",
      "20\n",
      "25\n",
      "30\n",
      "35\n",
      "40\n",
      "45\n",
      "6\n",
      "12\n",
      "18\n",
      "24\n",
      "30\n",
      "36\n",
      "42\n",
      "48\n",
      "54\n",
      "7\n",
      "14\n",
      "21\n",
      "28\n",
      "35\n",
      "42\n",
      "49\n",
      "56\n",
      "63\n",
      "8\n",
      "16\n",
      "24\n",
      "32\n",
      "40\n",
      "48\n",
      "56\n",
      "64\n",
      "72\n",
      "9\n",
      "18\n",
      "27\n",
      "36\n",
      "45\n",
      "54\n",
      "63\n",
      "72\n",
      "81\n"
     ]
    }
   ],
   "source": [
    "for i in range(2,10):\n",
    "    for j in range(1,10):\n",
    "        print(i*j, end=\"\")\n",
    "        print('')"
   ]
  },
  {
   "cell_type": "code",
   "execution_count": null,
   "metadata": {},
   "outputs": [],
   "source": []
  }
 ],
 "metadata": {
  "kernelspec": {
   "display_name": "Python 3",
   "language": "python",
   "name": "python3"
  },
  "language_info": {
   "codemirror_mode": {
    "name": "ipython",
    "version": 3
   },
   "file_extension": ".py",
   "mimetype": "text/x-python",
   "name": "python",
   "nbconvert_exporter": "python",
   "pygments_lexer": "ipython3",
   "version": "3.7.6"
  }
 },
 "nbformat": 4,
 "nbformat_minor": 4
}
